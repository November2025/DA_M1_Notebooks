{
 "cells": [
  {
   "cell_type": "markdown",
   "metadata": {},
   "source": [
    "# Assignment: Triangles\n",
    "[Triangles](https://en.wikipedia.org/wiki/Triangle#Types_of_triangle) can be classified based on their angels.\n",
    "\n",
    "- A right triangle has one angle of 90°\n",
    "- A obtuse triangle has one angle of more than 90°\n",
    "- A triangle is acute if all three angels are less than 90°\n",
    "\n",
    "Write a program that asks the user for the values of three angles in degrees. First check if the entered values are\n",
    "valid. The values are only valid if they are >0 and if their sum is 180°.\n",
    "If the entered values are valid, classify the triangle as right, acute or obtuse.\n",
    "\n",
    "Below are two example executions of the program with invalid values:\n",
    "\n",
    "    Please enter the first angle: 60\n",
    "    Please enter the second angle: 60\n",
    "    Please enter the third angle: 100\n",
    "    The entered values are not valid.\n",
    "\n",
    "    Please enter the first angle: 200\n",
    "    Please enter the second angle: -10\n",
    "    Please enter the third angle: -10\n",
    "    Angles smaller than 0 are not valid.\n",
    "\n",
    "\n",
    "Here is another example execution of the program:\n",
    "\n",
    "    Please enter the first angle: 60\n",
    "    Please enter the second angle: 30\n",
    "    Please enter the third angle: 90\n",
    "    The triangle is a right triangle.\n"
   ]
  },
  {
   "cell_type": "code",
   "execution_count": 2,
   "metadata": {},
   "outputs": [
    {
     "name": "stdout",
     "output_type": "stream",
     "text": [
      "The entered angles are not valid. They must be > 0 and their sum must be 180°.\n"
     ]
    }
   ],
   "source": [
    "# Function to classify the triangle based on its angles\n",
    "def classify_triangle(angles):\n",
    "    a, b, c = angles\n",
    "    \n",
    "    # Classifying the triangle based on angle measures\n",
    "    if a == 90 or b == 90 or c == 90:\n",
    "        return \"Right triangle\"\n",
    "    elif a < 90 and b < 90 and c < 90:\n",
    "        return \"Acute triangle\"\n",
    "    else:\n",
    "        return \"Obtuse triangle\"\n",
    "\n",
    "# Function to check if the angles form a valid triangle\n",
    "def is_valid_triangle(angles):\n",
    "    return all(angle > 0 for angle in angles) and sum(angles) == 180\n",
    "\n",
    "# Input from the user\n",
    "try:\n",
    "    angle1 = int(input(\"Enter the first angle in degrees: \"))\n",
    "    angle2 = int(input(\"Enter the second angle in degrees: \"))\n",
    "    angle3 = int(input(\"Enter the third angle in degrees: \"))\n",
    "    \n",
    "    angles = (angle1, angle2, angle3)\n",
    "    \n",
    "    # Check if the angles form a valid triangle\n",
    "    if is_valid_triangle(angles):\n",
    "        triangle_type = classify_triangle(angles)\n",
    "        print(f\"The triangle is classified as: {triangle_type}\")\n",
    "    else:\n",
    "        print(\"The entered angles are not valid. They must be > 0 and their sum must be 180°.\")\n",
    "except ValueError:\n",
    "    print(\"Please enter valid integer values for the angles.\")\n",
    "\n"
   ]
  }
 ],
 "metadata": {
  "kernelspec": {
   "display_name": "Python 3",
   "language": "python",
   "name": "python3"
  },
  "language_info": {
   "codemirror_mode": {
    "name": "ipython",
    "version": 3
   },
   "file_extension": ".py",
   "mimetype": "text/x-python",
   "name": "python",
   "nbconvert_exporter": "python",
   "pygments_lexer": "ipython3",
   "version": "3.13.0"
  }
 },
 "nbformat": 4,
 "nbformat_minor": 5
}
