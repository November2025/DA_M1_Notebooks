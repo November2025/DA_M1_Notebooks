{
 "cells": [
  {
   "cell_type": "markdown",
   "metadata": {},
   "source": [
    "# Bonus: Quadratic Equation\n",
    "A [quadratic equation](https://en.wikipedia.org/wiki/Quadratic_equation) is an equation that can be written as\n",
    "\n",
    "$ax^2 + bx + c = 0$.\n",
    "\n",
    "In this equation *x* represents an unknown number, and *a*, *b*, and *c* are representing known numbers.\n",
    "Possible solutions for a given quadratic equation can be calculated by the formula\n",
    "\n",
    "$x=\\frac{-b \\pm \\sqrt{b^2-4ac}}{2a}$.\n",
    "\n",
    "The expression $b^2-4ac$ is called the\n",
    "[discriminant](https://en.wikipedia.org/wiki/Quadratic_equation#Discriminant).\n",
    "Using the discriminant makes it is easy to check the number of solutions for a given quadratic equation:\n",
    "\n",
    "- If the discriminant is 0, the quadratic equation has exactly one real solution.\n",
    "- If the discriminant is > 0, the quadratic equation has two real solutions.\n",
    "- If the discriminant is < 0, the quadratic equation has two complex solutions.\n",
    "\n",
    "Write a program that asks the user for the numbers *a*, *b* and *c*.\n",
    "The program should then print out how many solutions the quadratic equation has.\n",
    "\n",
    "Below is an example execution of the program:\n",
    "\n",
    "    Please enter the value of a: 4\n",
    "    Please enter the value of b: 2\n",
    "    Please enter the value of c: -2\n",
    "\n",
    "    The quadratic equation has 2 real solutions.\n",
    "\n",
    "\n",
    "Here is an another example execution of the program:\n",
    "\n",
    "    Please enter the value of a: 1\n",
    "    Please enter the value of b: 2\n",
    "    Please enter the value of c: 3\n",
    "\n",
    "    The quadratic equation has 2 complex solutions.\n",
    "\n",
    "\n",
    "And here is yet another example execution of the program:\n",
    "\n",
    "    Please enter the value of a: 1\n",
    "    Please enter the value of b: 2\n",
    "    Please enter the value of c: 1\n",
    "\n",
    "    The quadratic equation has 1 real solution."
   ]
  },
  {
   "cell_type": "code",
   "execution_count": null,
   "metadata": {},
   "outputs": [],
   "source": [
    "a = int(input(\"Please enter the value of a: \"))\n",
    "b = int(input(\"Please enter the value of b: \"))\n",
    "c = int(input(\"Please enter the value of c: \"))\n",
    "\n",
    "discriminat = (b * b) - (4 * a * c)\n",
    "\n",
    "if discriminat < 0:\n",
    "    print(\"The quadratic equation has 2 complex solutions.\")\n",
    "elif discriminat == 0:\n",
    "    print(\"The quadratic equation has 1 real solution.\")\n",
    "else:\n",
    "    print(\"The quadratic equation has 2 real solutions.\")"
   ]
  },
  {
   "cell_type": "code",
   "execution_count": 4,
   "id": "4079911d",
   "metadata": {},
   "outputs": [
    {
     "name": "stdout",
     "output_type": "stream",
     "text": [
      "The quadratic equation has no real solutions.\n"
     ]
    }
   ],
   "source": [
    "import math\n",
    "\n",
    "# Function to determine the number of solutions for a quadratic equation\n",
    "def find_solutions(a, b, c):\n",
    "    discriminant = b**2 - 4 * a * c  # Calculate the discriminant\n",
    "    \n",
    "    if discriminant > 0:\n",
    "        # Two distinct real solutions\n",
    "        x1 = (-b + math.sqrt(discriminant)) / (2 * a)\n",
    "        x2 = (-b - math.sqrt(discriminant)) / (2 * a)\n",
    "        return f\"The quadratic equation has two distinct real solutions: x1 = {x1}, x2 = {x2}\"\n",
    "    elif discriminant == 0:\n",
    "        # One real solution (repeated root)\n",
    "        x = -b / (2 * a)\n",
    "        return f\"The quadratic equation has exactly one real solution: x = {x}\"\n",
    "    else:\n",
    "        # No real solutions\n",
    "        return \"The quadratic equation has no real solutions.\"\n",
    "\n",
    "# Input from the user\n",
    "try:\n",
    "    a = float(input(\"Enter the coefficient a (must not be 0): \"))\n",
    "    if a == 0:\n",
    "        print(\"Coefficient a must not be zero for a quadratic equation.\")\n",
    "    else:\n",
    "        b = float(input(\"Enter the coefficient b: \"))\n",
    "        c = float(input(\"Enter the coefficient c: \"))\n",
    "\n",
    "        # Determine and print the number of solutions\n",
    "        result = find_solutions(a, b, c)\n",
    "        print(result)\n",
    "\n",
    "except ValueError:\n",
    "    print(\"Please enter valid numerical values for the coefficients.\")\n"
   ]
  }
 ],
 "metadata": {
  "kernelspec": {
   "display_name": "Python 3",
   "language": "python",
   "name": "python3"
  },
  "language_info": {
   "codemirror_mode": {
    "name": "ipython",
    "version": 3
   },
   "file_extension": ".py",
   "mimetype": "text/x-python",
   "name": "python",
   "nbconvert_exporter": "python",
   "pygments_lexer": "ipython3",
   "version": "3.13.0"
  }
 },
 "nbformat": 4,
 "nbformat_minor": 5
}
