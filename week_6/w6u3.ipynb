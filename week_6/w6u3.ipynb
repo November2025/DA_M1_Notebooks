{
 "cells": [
  {
   "cell_type": "markdown",
   "metadata": {},
   "source": [
    "# The `math`, the `random` and the `statistics` libraries \n",
    "This unit focuses on using different functionalities provided by the `math`, `random` and `statistics` libraries. \n",
    "These libraries are part of the [Python Standard Library](https://docs.python.org/3/library/index.html).\n",
    "In order to explore these libraries two exercises are used. To familiarize yourself with the Python Standard Library and\n",
    "the documentation it is highly recommended that you try to solve the exercises yourself before looking at the solutions.\n",
    "\n",
    "\n",
    "## Exercises\n",
    "\n",
    "### Exercise 1 - The `math` library\n",
    "\n",
    "Write a program that performs the following tasks:\n",
    "1. Get a integer number from the user\n",
    "1. Calculate the factorial ($x!$) of this number\n",
    "1. Calculate the natural logarithm and the logarithm to the base 10 of the number\n",
    "\n",
    "Explore the [documentation](https://docs.python.org/3/library/math.html) of the `math` library to find suitable\n",
    "functions."
   ]
  },
  {
   "cell_type": "code",
   "execution_count": 1,
   "metadata": {},
   "outputs": [
    {
     "name": "stdout",
     "output_type": "stream",
     "text": [
      "the factorial of 88 is: 185482642257398439114796845645546284380220968949399346684421580986889562184028199319100141244804501828416633516851200000000000000000000\n",
      "the natural logarithm of 88 is: 4.477336814478207\n",
      "the logarithm base 10 of 88 is: 1.9444826721501687\n"
     ]
    }
   ],
   "source": [
    "# import the math library\n",
    "import math\n",
    "\n",
    "# ask the user for an integer \n",
    "user_input = input(\"enter an integer number: \")\n",
    "\n",
    "try:\n",
    "    # convert the input to an integer\n",
    "    number = int(user_input)\n",
    "\n",
    "    # check if the number is non-negative for factorial calculation\n",
    "    if number < 0:\n",
    "        print(\"factorial is not defined for negative numbers.\")\n",
    "    else:\n",
    "        # calculate the factorial\n",
    "        factorial = math.factorial(number)\n",
    "        print(\"the factorial of\", number, \"is:\", factorial)\n",
    "\n",
    "    # check if the number is positive for logarithm calculations\n",
    "    if number > 0:\n",
    "        # calculate the natural logarithm\n",
    "        natural_log = math.log(number)\n",
    "        print(\"the natural logarithm of\", number, \"is:\", natural_log)\n",
    "\n",
    "        # calculate the logarithm base 10\n",
    "        log_base_10 = math.log10(number)\n",
    "        print(\"the logarithm base 10 of\", number, \"is:\", log_base_10)\n",
    "    else:\n",
    "        print(\"logarithms are not defined for non-positive numbers.\")\n",
    "except ValueError:\n",
    "    # handle the case where the input is not an integer\n",
    "    print(\"please enter a valid integer.\")\n"
   ]
  },
  {
   "cell_type": "markdown",
   "metadata": {},
   "source": [
    "### Exercise 2 - The `random` and `statistics` libraries\n",
    "\n",
    "Use functions from the `random` and `statistics` libraries to\n",
    "- generate a list of 100 random integer numbers between 1 and 10\n",
    "- calculate the mean of this list\n",
    "- calculate the median of this list\n",
    "- calculate the variance of this list\n",
    "\n",
    "Explore the documentation of the [`random`](https://docs.python.org/3/library/random.html) and the\n",
    "[`statistics`](https://docs.python.org/3/library/statistics.html) libraries to find suitable functions. "
   ]
  },
  {
   "cell_type": "code",
   "execution_count": 2,
   "metadata": {},
   "outputs": [
    {
     "name": "stdout",
     "output_type": "stream",
     "text": [
      "list of 100 random numbers: [9, 7, 10, 2, 6, 7, 5, 8, 3, 7, 9, 1, 6, 6, 8, 1, 7, 10, 9, 6, 8, 5, 6, 6, 5, 9, 6, 6, 2, 9, 2, 3, 3, 7, 8, 1, 3, 9, 1, 6, 4, 1, 6, 3, 10, 8, 6, 1, 10, 3, 3, 10, 6, 2, 2, 2, 5, 6, 3, 1, 8, 2, 2, 1, 10, 3, 4, 6, 5, 3, 1, 2, 4, 6, 8, 3, 4, 2, 3, 10, 2, 2, 6, 3, 10, 3, 8, 8, 3, 3, 3, 4, 4, 5, 1, 2, 8, 5, 8, 5]\n",
      "mean of the list: 5.04\n",
      "median of the list: 5.0\n",
      "variance of the list: 7.897373737373737\n"
     ]
    }
   ],
   "source": [
    "# import the random and statistics libraries\n",
    "import random\n",
    "import statistics\n",
    "\n",
    "# generate a list of 100 random integers between 1 and 10\n",
    "random_numbers = [random.randint(1, 10) for _ in range(100)]\n",
    "\n",
    "# calculate the mean of the list\n",
    "mean_value = statistics.mean(random_numbers)\n",
    "\n",
    "# calculate the median of the list\n",
    "median_value = statistics.median(random_numbers)\n",
    "\n",
    "# calculate the variance of the list\n",
    "variance_value = statistics.variance(random_numbers)\n",
    "\n",
    "# display the results\n",
    "print(\"list of 100 random numbers:\", random_numbers)\n",
    "print(\"mean of the list:\", mean_value)\n",
    "print(\"median of the list:\", median_value)\n",
    "print(\"variance of the list:\", variance_value)\n"
   ]
  }
 ],
 "metadata": {
  "interpreter": {
   "hash": "9fd0e282e2343d8b38b390b803aabc7fcea80a18eee8e5bd23ce64f6435b30a1"
  },
  "kernelspec": {
   "display_name": "Python 3",
   "language": "python",
   "name": "python3"
  },
  "language_info": {
   "codemirror_mode": {
    "name": "ipython",
    "version": 3
   },
   "file_extension": ".py",
   "mimetype": "text/x-python",
   "name": "python",
   "nbconvert_exporter": "python",
   "pygments_lexer": "ipython3",
   "version": "3.13.0"
  }
 },
 "nbformat": 4,
 "nbformat_minor": 2
}
