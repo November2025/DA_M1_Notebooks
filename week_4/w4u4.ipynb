{
 "cells": [
  {
   "cell_type": "markdown",
   "metadata": {},
   "source": [
    "# Writing random numbers to a text file\n",
    "To be able to write to a file it must be opened in a mode that allows writing (e.g. the `w` mode). Then data can be\n",
    "written to the file using the `write()` method. This is shown in the following cell."
   ]
  },
  {
   "cell_type": "code",
   "execution_count": 4,
   "metadata": {},
   "outputs": [],
   "source": [
    "with open(\"numbers.txt\", \"w\") as file:\n",
    "    for i in range(100):\n",
    "        line = str(i) + \"\\n\"\n",
    "        file.write(line)"
   ]
  },
  {
   "cell_type": "code",
   "execution_count": 2,
   "metadata": {},
   "outputs": [
    {
     "ename": "TypeError",
     "evalue": "write() argument must be str, not int",
     "output_type": "error",
     "traceback": [
      "\u001b[1;31m---------------------------------------------------------------------------\u001b[0m",
      "\u001b[1;31mTypeError\u001b[0m                                 Traceback (most recent call last)",
      "Cell \u001b[1;32mIn[2], line 3\u001b[0m\n\u001b[0;32m      1\u001b[0m \u001b[38;5;28;01mwith\u001b[39;00m \u001b[38;5;28mopen\u001b[39m(\u001b[38;5;124m\"\u001b[39m\u001b[38;5;124mnumbers.txt\u001b[39m\u001b[38;5;124m\"\u001b[39m, \u001b[38;5;124m\"\u001b[39m\u001b[38;5;124mw\u001b[39m\u001b[38;5;124m\"\u001b[39m) \u001b[38;5;28;01mas\u001b[39;00m file:\n\u001b[0;32m      2\u001b[0m     \u001b[38;5;28;01mfor\u001b[39;00m i \u001b[38;5;129;01min\u001b[39;00m \u001b[38;5;28mrange\u001b[39m(\u001b[38;5;241m100\u001b[39m):\n\u001b[1;32m----> 3\u001b[0m         \u001b[43mfile\u001b[49m\u001b[38;5;241;43m.\u001b[39;49m\u001b[43mwrite\u001b[49m\u001b[43m(\u001b[49m\u001b[43mi\u001b[49m\u001b[43m)\u001b[49m  \n",
      "\u001b[1;31mTypeError\u001b[0m: write() argument must be str, not int"
     ]
    }
   ],
   "source": [
    "with open(\"numbers.txt\", \"w\") as file:\n",
    "    for i in range(100):\n",
    "        file.write(i)  #this produces error since its a integer & not a string\n"
   ]
  },
  {
   "cell_type": "code",
   "execution_count": 3,
   "metadata": {},
   "outputs": [],
   "source": [
    "with open(\"numbers.txt\", \"w\") as file:\n",
    "    for i in range(100):\n",
    "        file.write(str(i))  #this produced the numbers all together with no space or structure\n"
   ]
  },
  {
   "cell_type": "markdown",
   "metadata": {},
   "source": [
    "Check the result in the file \"numbers.txt\" with a text editor. \n",
    "\n",
    "There are two things to be mentioned:\n",
    "\n",
    "- You can only write strings into a file. That's why the integer stored in `i` is casted with the `str()` function before it is written into the file\n",
    "- If you do not add the linebreak `\\n` to the string, then there will be no linebreak in the file.\n",
    "\n",
    "Give it a try and leave the casting or the linebreak away and check the result.\n",
    "\n",
    "\n",
    "# Saving a list of students into a file\n",
    "\n",
    "The example below includes the list of students we already used in a previous unit. Let's assume you have\n",
    "created this list by letting the user input the data. Now, you want to save the data permanently for later usage. Every\n",
    "tuple in the list represents a student and you want to save them to a file called *students.txt*:"
   ]
  },
  {
   "cell_type": "code",
   "execution_count": 5,
   "metadata": {},
   "outputs": [],
   "source": [
    "list_of_students = [\n",
    "    (\"Potter\", \"Harry\", 477264, \"harry@hogwarts.wiz\", \"Defence Against the Dark Arts\"),\n",
    "    (\"Weasley\", \"Ron\", 490134, \"ron@hogwarts.wiz\", \"Care of Magical Creatures\"),\n",
    "    (\"Granger\", \"Hermione\", 471617, \"hermione@hogwarts.wiz\", \"Alchemy\"),\n",
    "    (\"Creevey\", \"Colin\", 432646, \"colin@hogwarts.wiz\", \"Music\"),\n",
    "    (\"Finnigan\", \"Seamus\", 481989, \"seamus@hogwarts.wiz\", \"Ancient Studies\"),\n",
    "    (\"Abbott\", \"Hannah\", 488962, \"hannah@hogwarts.wiz\", \"Apparition\"),\n",
    "    (\"Parkinson\", \"Pansy\", 482103, \"pansy@hogwarts.wiz\", \"Dark Arts\"),\n",
    "    (\"Malfoy\", \"Draco\", 492010, \"draco@hogwarts.wiz\", \"Defence Against the Dark Arts\"),\n",
    "    (\"Thomas\", \"Dean\", 447924, \"dean.thomas@hogwarts.wiz\", \"Divination\"),\n",
    "]\n",
    "\n",
    "with open(\"students.txt\", \"w\") as file:\n",
    "    for student in list_of_students:\n",
    "        line = \"\"\n",
    "\n",
    "        for attribute in student:\n",
    "            line = line + str(attribute) + \", \"\n",
    "\n",
    "        file.write(line + \"\\n\")"
   ]
  },
  {
   "cell_type": "markdown",
   "metadata": {},
   "source": [
    "You should have noticed that the `\\n` will add a line break after each number or student. Otherwise the file would just\n",
    "contain one long and confusing line. You can try this out by omitting the `\\n`."
   ]
  },
  {
   "cell_type": "markdown",
   "metadata": {},
   "source": [
    "# Exercise: Writing letters from a-z to a file\n",
    "Create a program (similar to the previous one) that writes all letters from a-z into one line of a file each.  \n",
    "*Note*: The function `chr()` converts a number into a letter. Here, the number 97 corresponds to an a, the number 98 to\n",
    "a b, and so on. (see next code cell).  \n",
    "The reason of this assignment is the [ASCII table](https://en.wikipedia.org/wiki/ASCII#Control_code_chart). ASCII is a\n",
    "coding standard that assigns the characters and commands of a typewriter to bit combinations. The bit combinations are\n",
    "usually specified as numbers from 0 to 127."
   ]
  },
  {
   "cell_type": "code",
   "execution_count": 6,
   "metadata": {},
   "outputs": [
    {
     "name": "stdout",
     "output_type": "stream",
     "text": [
      "a\n",
      "b\n"
     ]
    }
   ],
   "source": [
    "### Task: Writing letters from a-z to a file test cell\n",
    "letter = chr(97)\n",
    "print(letter)\n",
    "letter = chr(98)\n",
    "print(letter)"
   ]
  },
  {
   "cell_type": "code",
   "execution_count": 7,
   "metadata": {},
   "outputs": [],
   "source": [
    "# Program to write letters from a to z into a file\n",
    "\n",
    "with open(\"letters.txt\", \"w\") as file:\n",
    "    for i in range(26):  # 26 letters in the English alphabet\n",
    "        letter = chr(97 + i)  # 97 is the ASCII value for 'a'\n",
    "        file.write(letter + \"\\n\")  # Write the letter followed by a newline\n"
   ]
  },
  {
   "cell_type": "markdown",
   "metadata": {},
   "source": [
    "# Exercise: Copy a file\n",
    "Create a program that copies a file. First create a program that creates a copy of \"lorem_ipsum.txt\". Then extend the\n",
    "program, so that it first asks for the file name of the file to be copied, then for the name of the new file. Then the\n",
    "file is copied. Assume that the file actually exists."
   ]
  },
  {
   "cell_type": "code",
   "execution_count": 9,
   "metadata": {},
   "outputs": [],
   "source": [
    "#  file copy program\n",
    "with open(\"w4u2ipsum.txt\", \"r\") as original_file:\n",
    "    content = original_file.read()  # Read the entire content of the file\n",
    "\n",
    "with open(\"w4u2ipsum_copy.txt\", \"w\") as copy_file:\n",
    "    copy_file.write(content)  # create new file \n"
   ]
  },
  {
   "cell_type": "code",
   "execution_count": 12,
   "metadata": {},
   "outputs": [
    {
     "name": "stdout",
     "output_type": "stream",
     "text": [
      "File 'w4u2ipsum.txt' has been copied to 'Ipsum file '.\n"
     ]
    }
   ],
   "source": [
    "# extended file copy program with user input\n",
    "source_file_name = input(\"Enter the name of the file to be copied: \")\n",
    "# ask user the name of the new file\n",
    "destination_file_name = input(\"Enter the name of the new file: \")\n",
    "\n",
    "# copy file\n",
    "try:\n",
    "    with open(source_file_name, \"r\") as original_file:\n",
    "        content = original_file.read()  # read file\n",
    "\n",
    "    with open(destination_file_name, \"w\") as copy_file:\n",
    "        copy_file.write(content)  # copies file \n",
    "\n",
    "    print(f\"File '{source_file_name}' has been copied to '{destination_file_name}'.\")\n",
    "except FileNotFoundError:\n",
    "    print(f\"Error: The file '{source_file_name}' does not exist.\")\n"
   ]
  }
 ],
 "metadata": {
  "file_extension": ".py",
  "kernelspec": {
   "display_name": "Python 3",
   "language": "python",
   "name": "python3"
  },
  "language_info": {
   "codemirror_mode": {
    "name": "ipython",
    "version": 3
   },
   "file_extension": ".py",
   "mimetype": "text/x-python",
   "name": "python",
   "nbconvert_exporter": "python",
   "pygments_lexer": "ipython3",
   "version": "3.13.0"
  },
  "mimetype": "text/x-python",
  "name": "python",
  "npconvert_exporter": "python",
  "pygments_lexer": "ipython3",
  "version": 3
 },
 "nbformat": 4,
 "nbformat_minor": 2
}
